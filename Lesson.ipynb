{
 "cells": [
  {
   "cell_type": "markdown",
   "id": "b509e99c",
   "metadata": {},
   "source": [
    "## Scipy and Optimization"
   ]
  },
  {
   "cell_type": "markdown",
   "id": "81d84e61",
   "metadata": {},
   "source": [
    "In the last notebook we took a tour of the `numpy` and `scipy` stack as it relates to math and statistics. This notebook is going to focus on another subset of `scipy` functionality that is absolutely critical to data analytics. Nearly every statistical algorithm aside from Ordinary Least Squares (OLS) regression cannot be solved algebraically. Because they cannot be solved algebraically, they must be solved **numerically**.\n",
    "\n",
    "### Numeric Optimization\n",
    "\n",
    "Let's start with an example of optimization. Let's say that you know the demand function for tickets to watch a local sports franchise. You can write the inverse demand function as \n",
    "\n",
    "$$ P = 300 - \\frac{1}{2}Q $$\n",
    "\n",
    "and the total cost function as \n",
    "\n",
    "$$ TC = 4000 + 45Q $$\n",
    "\n",
    "In order to choose the right number of tickets to sell, you need to calculate the quantity of tickets that will maximize profits. We can calculate total revenue as $ TR = P \\times Q $, and we can calculate profit as $ \\Pi = TR - TC $. This means that our profit function is \n",
    "\n",
    "$$ \\Pi = 300Q - \\frac{1}{2}Q^2 - 4000 - 45Q $$\n",
    "\n",
    "In order to find the $Q$ associated with the highest achievable level of profit, we can use calculus to find the point at which the rate of change in the profit function is zero ($\\frac{\\partial\\Pi}{\\partial Q}=0$).\n",
    "\n",
    "$$ \\frac{\\partial\\Pi}{\\partial Q} = 300 - Q - 45 = 0 \\implies Q = 255$$\n",
    "\n",
    "So we can **algebraically** solve this particular problem. This isn't always the case. Using `scipy`, we can solve this same problem, as well as many algebraically intractable problems that might be more interesting to us.\n"
   ]
  },
  {
   "cell_type": "markdown",
   "id": "c6d805e4",
   "metadata": {},
   "source": [
    "<img src=\"https://github.com/dustywhite7/Econ8320/raw/master/SlidesCode/paraboloid.png\" width=\"200\" height=\"200\" />\n",
    "\n",
    "\n",
    "In any optimization problem, we need to find a way to get ourselves to the minimum, and to know when we get there. When we look at the above image, we are able to visually trace the functional shape (looks like a rainbow ice cream cone to me...) and locate the bottom of the function. What we want to do is utilize an algorithm to \"trace\" our way from an arbitrary starting point within a function to the optimal point in that function. \n",
    "\n",
    "In three or fewer dimensions, this is easy. Regressions and statistical models often live in worlds with 100's or 1000's (even millions sometimes) of dimensions. We can't visualize our way to the bottom of those functions! \n",
    "\n",
    "The class of algorithm that is used to solve these problems is called **gradient descent**.\n",
    "\n",
    "<img src=\"https://github.com/dustywhite7/Econ8320/raw/master/SlidesCode/gradDesc.png\" width=\"400\" />\n",
    "\n",
    "**Gradient descent** is an algorithm that explores the shape of the function, and determines which direction is most likely to lead to the optimal point. Let's focus on minimization. We want to find our way to the *bottom* of a function, and we can use gradient descent to try to get there. Given any starting point, our goal is to check the direction in which we can move downward most quickly, and start moving in that direction. At some distance from our starting point, we will stop and re-evaluate the direction in which we would like to travel. Are we still heading downhill in the steepest direction? If we aren't, then we need to update our behavior.\n",
    "\n",
    "Our gradient descent algorithm will keep \"looking around\" and moving down until it reaches a point at which it can no longer move \"down\" in any meaningful way. That is the stopping point, and is treated as the optimum.\n"
   ]
  },
  {
   "cell_type": "markdown",
   "id": "0af96154",
   "metadata": {},
   "source": [
    "With an intuitive understanding of how optimization will happen computationally, it's time to learn a bit more about the math and the code that will help us to achieve computational optimization.\n",
    "\n",
    "Consider a function, $f$, with two variables $x$ and $y$. Because there are two input variables in the function, it has two partial derivatives:\n",
    "\n",
    "$$ \\frac{\\partial f}{\\partial x} \\text{ and } \\frac{\\partial f}{\\partial y} $$\n",
    "\n",
    "Each partial derivative tells us how $f$ changes as we move in a particular dimension **all else equal**. The **gradient**, then, is the vector of all partial derivatives of a given function at any point along the function:\n",
    "\n",
    "$$ \\nabla f = \\left[ \\begin{matrix} \\frac{\\partial f}{\\partial x} \\\\ \\\\ \\frac{\\partial f}{\\partial y} \\end{matrix} \\right]  $$\n",
    "\n",
    "We can use the gradient to determine the linear approximation of a function at any given point. Think about the gradient as the mathematical representation of the slope and direction of a hill you are hiking on. If we know the gradient, we know which way is down. As we continue to calculate gradients while walking, we can continue to ensure that we will walk downhill until we reach the bottom of the hill.\n",
    "\n",
    "\n"
   ]
  },
  {
   "cell_type": "markdown",
   "id": "6b3fefac",
   "metadata": {},
   "source": [
    "The steps of our gradient descent function will be the following:\n",
    "\n",
    "- Evaluate the gradient of the function\n",
    "- Find the direction of steepest descent\n",
    "- Determine how far to move in that direction\n",
    "- Move to new point\n",
    "- Reevaluate the gradient\n",
    "- Stop moving when gradient is within a margin of error from 0\n",
    "\n",
    "Let's try to implement gradient descent by solving our old profit maximization problem computationally. The very first thing that we need to do is write a Python function that will represent our mathematical function."
   ]
  },
  {
   "cell_type": "code",
   "id": "3c641a5e",
   "metadata": {
    "ExecuteTime": {
     "end_time": "2025-04-01T23:11:10.312412Z",
     "start_time": "2025-04-01T23:11:10.308347Z"
    }
   },
   "source": [
    "def profit(q):\n",
    "    p = 300-0.5*q\n",
    "    tr = p*q\n",
    "    tc = 4000 + 45*q\n",
    "    return tr - tc"
   ],
   "outputs": [],
   "execution_count": 1
  },
  {
   "cell_type": "markdown",
   "id": "ed1c0514",
   "metadata": {},
   "source": [
    "This function will allow us to calculate profit at any output level based on our assumed total costs and demand curve. With this function, we can quickly calculate the gradient (in this case, just a simple derivative because our function is univariate) by calculating profit at two nearby points, and dividing by the horizontal distance between those points:"
   ]
  },
  {
   "cell_type": "code",
   "id": "4ef8c0ac",
   "metadata": {
    "ExecuteTime": {
     "end_time": "2025-04-01T23:11:10.361054Z",
     "start_time": "2025-04-01T23:11:10.349747Z"
    }
   },
   "source": [
    "# Gradient at q=200\n",
    "\n",
    "(profit(201) - profit(199))/2"
   ],
   "outputs": [
    {
     "data": {
      "text/plain": [
       "55.0"
      ]
     },
     "execution_count": 2,
     "metadata": {},
     "output_type": "execute_result"
    }
   ],
   "execution_count": 2
  },
  {
   "cell_type": "markdown",
   "id": "5e219ac5",
   "metadata": {},
   "source": [
    "    55.0\n",
    "\n",
    "\n",
    "\n",
    "Thus, a one unit increase in output at $Q=200$ results in a $55 increase in profits. This is cool, but it isn't enough for us to find the point of maximum profit (the optimal point). For that, we will need to calculate LOTS of gradients in order to move along the function until we cannot increase profits any further.\n",
    "\n",
    "Fortunately for us, `scipy` comes with optimization tools that will do all of the heavy lifting of the \"search\" for the optimal point. All that we need to do is frame our question algorithmically, and let `scipy` do the rest:"
   ]
  },
  {
   "cell_type": "code",
   "id": "edaa6713",
   "metadata": {
    "ExecuteTime": {
     "end_time": "2025-04-01T23:12:56.506669Z",
     "start_time": "2025-04-01T23:12:56.489941Z"
    }
   },
   "source": [
    "import numpy as np\n",
    "from scipy.optimize import minimize"
   ],
   "outputs": [
    {
     "ename": "ModuleNotFoundError",
     "evalue": "No module named 'numpy'",
     "output_type": "error",
     "traceback": [
      "\u001B[31m---------------------------------------------------------------------------\u001B[39m",
      "\u001B[31mModuleNotFoundError\u001B[39m                       Traceback (most recent call last)",
      "\u001B[36mCell\u001B[39m\u001B[36m \u001B[39m\u001B[32mIn[7]\u001B[39m\u001B[32m, line 1\u001B[39m\n\u001B[32m----> \u001B[39m\u001B[32m1\u001B[39m \u001B[38;5;28;01mimport\u001B[39;00m\u001B[38;5;250m \u001B[39m\u001B[34;01mnumpy\u001B[39;00m\u001B[38;5;250m \u001B[39m\u001B[38;5;28;01mas\u001B[39;00m\u001B[38;5;250m \u001B[39m\u001B[34;01mnp\u001B[39;00m\n\u001B[32m      2\u001B[39m \u001B[38;5;28;01mfrom\u001B[39;00m\u001B[38;5;250m \u001B[39m\u001B[34;01mscipy\u001B[39;00m\u001B[34;01m.\u001B[39;00m\u001B[34;01moptimize\u001B[39;00m\u001B[38;5;250m \u001B[39m\u001B[38;5;28;01mimport\u001B[39;00m minimize\n",
      "\u001B[31mModuleNotFoundError\u001B[39m: No module named 'numpy'"
     ]
    }
   ],
   "execution_count": 7
  },
  {
   "cell_type": "markdown",
   "id": "6b4f0c01",
   "metadata": {},
   "source": [
    "We start by importing the `minimize` function from `scipy.optimize`. Hang on! Weren't we working on a MAXIMIZATION problem?? What are we doing here?\n",
    "\n",
    "Maximization and minimization are the **same thing**. To maximize a function, you can multiply that function by `-1` and then calculate the minimum of the new \"upside-down\" function. It is functionally equivalent. So, in computational optimization, we always minimize.\n",
    "\n",
    "### Prepping for optimization\n",
    "\n",
    "As we prepare to optimize, there are two common problems with our function that we may need to resolve:\n",
    "\n",
    "1) When using `minimize` we can only pass an array of inputs, so we have to be careful to write our function accordingly\n",
    "2) Our problem is concave, and so has a maximum\n",
    "\t- We need to restate it as a minimization problem\n",
    "\n",
    "Problem 1 does not apply, since our function in univariate. In order to make our problem a minimization problem, we can flip our profit maximization function. We will simply return -1 * profit:"
   ]
  },
  {
   "cell_type": "code",
   "id": "c950291a",
   "metadata": {
    "ExecuteTime": {
     "end_time": "2025-04-01T23:12:56.508610Z",
     "start_time": "2025-04-01T23:12:18.104464Z"
    }
   },
   "source": [
    "def profit(q):\n",
    "    p = 300-0.5*q\n",
    "    tr = p*q\n",
    "    tc = 4000 + 45*q\n",
    "    pi =  tr - tc # didn't name it profit because that is our function's name! Don't want to clutter our name space!\n",
    "    return -1*pi"
   ],
   "outputs": [],
   "execution_count": 3
  },
  {
   "cell_type": "markdown",
   "id": "56b1a329",
   "metadata": {},
   "source": [
    "### Making the call to `minimize`\n",
    "\n",
    "Now that our function is ready, it is time to minimize! The `minimize` function takes two arguments:\n",
    "1. Our function that we want to optimize\n",
    "2. A starting guess (as a vector)\n",
    "\n",
    "Let's give it a try."
   ]
  },
  {
   "cell_type": "code",
   "id": "7d46c4fa",
   "metadata": {
    "ExecuteTime": {
     "end_time": "2025-04-01T23:12:56.521534Z",
     "start_time": "2025-04-01T23:12:18.126448Z"
    }
   },
   "source": [
    "res = minimize(profit, [0]) # provide function and starting inputs\n",
    "res"
   ],
   "outputs": [
    {
     "ename": "NameError",
     "evalue": "name 'minimize' is not defined",
     "output_type": "error",
     "traceback": [
      "\u001B[31m---------------------------------------------------------------------------\u001B[39m",
      "\u001B[31mNameError\u001B[39m                                 Traceback (most recent call last)",
      "\u001B[36mCell\u001B[39m\u001B[36m \u001B[39m\u001B[32mIn[4]\u001B[39m\u001B[32m, line 1\u001B[39m\n\u001B[32m----> \u001B[39m\u001B[32m1\u001B[39m res = \u001B[43mminimize\u001B[49m(profit, [\u001B[32m0\u001B[39m]) \u001B[38;5;66;03m# provide function and starting inputs\u001B[39;00m\n\u001B[32m      2\u001B[39m res\n",
      "\u001B[31mNameError\u001B[39m: name 'minimize' is not defined"
     ]
    }
   ],
   "execution_count": 4
  },
  {
   "cell_type": "markdown",
   "id": "61532439",
   "metadata": {},
   "source": [
    "          fun: -28512.499999980355\n",
    "     hess_inv: array([[1.00000175]])\n",
    "          jac: array([0.])\n",
    "      message: 'Optimization terminated successfully.'\n",
    "         nfev: 21\n",
    "          nit: 3\n",
    "         njev: 7\n",
    "       status: 0\n",
    "      success: True\n",
    "            x: array([255.00019821])\n",
    "\n",
    "\n",
    "\n",
    "That's it! No calculus, no searching, no checking gradients manually. `minimize` simply takes our function and our starting guess and brings us back the optimal choice. We get lots of information stored in the attributes of the `res` object:\n",
    "\n",
    "- `fun` provides the value of the function (this is -1 times the profit level at the optimal output in our example)\n",
    "- `hess_inv` and `jac` are measures of gradient and are used to determine how far to go and in which direction\n",
    "- `message` should be self-explanatory\n",
    "- `nfev` is the number of times the function (in this case `profit`) was evaluated during the search\n",
    "- `nit` is the number of iterations it took to find the optimum\n",
    "- `njev` is the number of times the Jacobian was estimated\n",
    "- `status` is a code associated with the `message` and `success` atrributes\n",
    "- `success` tells you whether or not an optimum was found (sometimes it cannot be easily found!)\n",
    "- `x` probably the most important attribute. This tells us the optimal input value (in our case $Q$), or set of values depending on our function. In a regression context, this could represent the fitted coefficients!\n",
    "\n",
    "Going forward, you will realize (especially because so many of them print the output as they optimize) just how many libraries in Python use this minimize function behind the scenes. It is used in `statsmodels`, `sklearn`, and many other high-profile libraries! Now that you know where it really happens (in `scipy`!), you'll be better able to troubleshoot the problems that will inevitably arise as you use statistical models."
   ]
  },
  {
   "cell_type": "markdown",
   "id": "4035bfcd",
   "metadata": {},
   "source": [
    "**Solve-it!**\n",
    "\n",
    "In this lesson we learned about optimization using SciPy. For the assignment this week, I would like you to build off of your `RegressionModel` class. You will add a Logistic Regression (Logit) method to your class, so that when the `regression_type` parameter is `logit`, Logistic Regression Results are returned. \n",
    "\n",
    "Your job is to create the following functionality within your class object:\n",
    "- a method (call it `logistic_regression`) that estimates the results of logistic regression using your `x` and `y` data frames, and using a likelihood function and gradient descent (DO NOT USE PREBUILT REGRESSION FUNCTIONS).\n",
    "    - You need to write a function to calculate the Log-likelihood of your model\n",
    "    - You need to implement gradient descent to find the optimal values of beta\n",
    "    - You need to use your beta estimates, the model variance, and calculate the standard errors of the coefficients, as well as Z statistics and p-values\n",
    "    - the results should be stored in a dictionary named `results`, where each variable name (including the intercept if `create_intercept` is `True`) is the key, and the value is another dictionary, with keys for `coefficient`, `standard_error`, `z_stat`, and `p_value`. The coefficient should be the log odds-ratio (which takes the place of the coefficients in OLS)\n",
    "- a method called `fit_model` that uses the `self.regression_type` attribute to determine whether or not to run an OLS or Logistic Regression using the data provided. This method should call the correct regression method.\n",
    "- an updated method (call it `summary`) that presents your regression results in a table\n",
    "    - Columns should be: Variable name, Log odds-ratio value, standard error, z-statistic, and p-value, in that order.\n",
    "    - Your summary table should have different column titles for OLS and Logistic Regressions! (think if statement...)\n",
    "\n",
    "You only need to define the class. My code will create an instance of your class (be sure all the names match these instructions, and those from last week!), and provide data to run a regression. I will provide the same data to you, so that you can experiment and make sure that your code is functioning properly.\n",
    "\n",
    "NOTE: I have created a [primer on Logistic regression](https://github.com/dustywhite7/Econ8320/blob/master/SlidesPDF/9-2%20-%20Logit%20Primer.pdf) to go with this assignment. See the Github slidesPDF folder\n",
    "\n",
    "Put the code that you would like graded in the cell labeled `#si-exercise`. I recommend copying your code from the last assignment (in chapter 9 about linear regression and `numpy`), and continuing from there. \n",
    "\n"
   ]
  },
  {
   "cell_type": "code",
   "id": "6a146533",
   "metadata": {
    "ExecuteTime": {
     "end_time": "2025-04-15T01:10:30.103928Z",
     "start_time": "2025-04-15T01:10:30.043140Z"
    }
   },
   "source": [
    "##si-exercise\n",
    "\n",
    "import pandas as pd\n",
    "import numpy as np\n",
    "import scipy.stats as stats\n",
    "import scipy.optimize as opt\n",
    "pd.options.mode.chained_assignment = None  # default='warn'\n",
    "\n",
    "\n",
    "class RegressionModel:\n",
    "\n",
    "    def __init__(self, x=pd.DataFrame(), y=pd.DataFrame(), create_intercept=True, regression_type=\"ols\"):\n",
    "\n",
    "        self.y_intercept = create_intercept\n",
    "        self.regression_type = regression_type\n",
    "        self.x = x\n",
    "        self.y = y\n",
    "\n",
    "        if self.y_intercept is True:\n",
    "            self.add_intercept()\n",
    "\n",
    "    def fit_model(self):\n",
    "        if self.regression_type == \"ols\":\n",
    "            self.ols_regression()\n",
    "        elif self.regression_type == \"logit\":\n",
    "            self.logistic_regression()\n",
    "        else:\n",
    "            raise ValueError(\"regression_type must be 'ols' or 'logit'\")\n",
    "\n",
    "    def add_intercept(self):\n",
    "        self.x.loc[:, 'intercept'] = 1\n",
    "\n",
    "    def ols_regression(self):\n",
    "        results = {}\n",
    "        variables = self.x.columns.values.tolist()\n",
    "        for i in variables:\n",
    "            results[i] = {}\n",
    "\n",
    "        B = np.linalg.inv(self.x.T @ self.x) @ (self.x.T @ self.y)\n",
    "        B = B.tolist()\n",
    "        k = 0\n",
    "        for i in variables:\n",
    "            results[i]['coefficient'] = B[k]\n",
    "            k += 1\n",
    "\n",
    "        var_est = float(\n",
    "            ((self.y.T @ self.y) - (self.y.T @ self.x @ np.linalg.inv(self.x.T @ self.x) @ self.x.T @ self.y)) / (\n",
    "                        len(self.x) - len(variables)))\n",
    "\n",
    "        cov_matrix = var_est * np.linalg.inv(self.x.T @ self.x)\n",
    "\n",
    "        var = np.diag(cov_matrix)\n",
    "        var = var.tolist()\n",
    "\n",
    "        k = 0\n",
    "        for i in variables:\n",
    "            results[i]['standard_error'] = float(np.sqrt(var[k]))\n",
    "            k += 1\n",
    "\n",
    "        for i in variables:\n",
    "            results[i]['t_stat'] = results[i]['coefficient'] / results[i]['standard_error']\n",
    "\n",
    "        for i in variables:\n",
    "            results[i]['p_value'] = float(stats.t.sf(results[i]['t_stat'], len(self.x) - len(variables)))\n",
    "\n",
    "        self.results = results\n",
    "\n",
    "        return self.results\n",
    "\n",
    "    def summary(self):\n",
    "        if self.regression_type == \"ols\":\n",
    "            self.ols_regression()\n",
    "\n",
    "            variables = self.x.columns.values.tolist()\n",
    "\n",
    "            coefficients = []\n",
    "            for i in variables:\n",
    "                coefficients.append(round(self.results[i]['coefficient'], 3))\n",
    "\n",
    "            standard_errors = []\n",
    "            for i in variables:\n",
    "                standard_errors.append(round(self.results[i]['standard_error'], 4))\n",
    "\n",
    "            t_stats = []\n",
    "            for i in variables:\n",
    "                t_stats.append(round(self.results[i]['t_stat'], 4))\n",
    "\n",
    "            p_values = []\n",
    "            for i in variables:\n",
    "                p_values.append(round(self.results[i]['p_value'], 3))\n",
    "\n",
    "            self.summary = pd.DataFrame({\n",
    "                'Variable name': self.results.keys(), 'coefficient value': coefficients, 'standard error': standard_errors,\n",
    "                't-statistic': t_stats, 'p-value': p_values\n",
    "            })\n",
    "\n",
    "            return print(self.summary)\n",
    "\n",
    "        elif self.regression_type == \"logit\":\n",
    "            self.logistic_regression()\n",
    "\n",
    "            self.summary = [\n",
    "                {   \"Variable\": var,\n",
    "                    \"Coefficient\": stats[\"coefficient\"],\n",
    "                    \"Std. Error\": stats[\"standard_error\"],\n",
    "                    \"z-Stat\": stats[\"z_stat\"],\n",
    "                    \"p-Value\": stats[\"p_value\"]\n",
    "                }\n",
    "                for var, stats in self.results.items() ]\n",
    "\n",
    "            return print(self.summary)\n",
    "\n",
    "\n",
    "\n",
    "    def logistic_regression(self):\n",
    "        results = {}\n",
    "        variables = self.x.columns.values.tolist()\n",
    "        print(variables)\n",
    "        for i in variables:\n",
    "            results[i] = {}\n",
    "\n",
    "        x_data = self.x[variables].values\n",
    "        y_data = self.y.values\n",
    "\n",
    "        base_betas = np.zeros(x_data.shape[1])\n",
    "\n",
    "        def log_transform(w):\n",
    "            return np.where( w >= 0, 1/(np.exp(1 + np.exp(-w))), np.exp(w) / (1 + np.exp(w)))\n",
    "\n",
    "        def log_likelihood(beta):\n",
    "            w = x_data @ beta\n",
    "            p = log_transform(w)\n",
    "            plug = 1e-15\n",
    "            p = np.clip(p, plug, 1 - plug)\n",
    "            return -1 * (np.sum(np.log(p) * y_data + (1 - y_data) * np.log(1 - p) ))\n",
    "\n",
    "        def loglike_gradient(beta):\n",
    "            w = x_data @ beta\n",
    "            p = log_transform(w)\n",
    "            return x_data.T @ (p - y_data)\n",
    "\n",
    "        result = opt.minimize(\n",
    "            fun = log_likelihood,\n",
    "            x0 = base_betas,\n",
    "            jac = loglike_gradient,\n",
    "            method = 'BFGS',\n",
    "            options = {'gtol': 1e-6, 'disp': False} )\n",
    "\n",
    "        betas = result.x\n",
    "\n",
    "        y_bar = np.mean(y_data)\n",
    "        variance = len(y_data) * y_bar * (1 - y_bar)\n",
    "        matrix_of_x = np.linalg.inv(x_data.T @ x_data)\n",
    "        var_cov_mat = variance * matrix_of_x\n",
    "        std_dev = np.sqrt(np.diag(var_cov_mat))\n",
    "        z = betas / std_dev\n",
    "        p_values = 2 * stats.norm.sf(np.abs(z))\n",
    "\n",
    "        for i,x in enumerate(variables):\n",
    "            results[x] = {\n",
    "                'coefficient': float(betas[i]),\n",
    "                'standard_error': float(std_dev[i]),\n",
    "                'z_stat': float(z[i]),\n",
    "                'p_value': float(p_values[i])\n",
    "            }\n",
    "\n",
    "        self.results = results\n",
    "\n",
    "        return self.results\n",
    "\n",
    "\n",
    "\n",
    "\n",
    "\n",
    "data = pd.read_csv(\"tests/files/assignment8Data.csv\")\n",
    "x = data.loc[:100, ['sex', 'age', 'educ']]\n",
    "y = data.loc[:100, 'white']\n",
    "\n",
    "reg = RegressionModel(x, y, create_intercept=True, regression_type=\"logit\")\n",
    "reg.summary()\n",
    "\n",
    "\n",
    "\n",
    "\n",
    "\n",
    "\n",
    "\n"
   ],
   "outputs": [
    {
     "name": "stdout",
     "output_type": "stream",
     "text": [
      "['sex', 'age', 'educ', 'intercept']\n",
      "[{'Variable': 'sex', 'Coefficient': 0.029500084649390305, 'Std. Error': 0.39798772782618014, 'z-Statistic': 0.07412310125872618, 'p-Value': 0.9409124336749928}, {'Variable': 'age', 'Coefficient': 0.9977469067068283, 'Std. Error': 0.010835821823286995, 'z-Statistic': 92.07856339632636, 'p-Value': 0.0}, {'Variable': 'educ', 'Coefficient': 0.15275816262319478, 'Std. Error': 0.10100278092776112, 'z-Statistic': 1.51241541292264, 'p-Value': 0.13042821635912666}, {'Variable': 'intercept', 'Coefficient': 0.019894695640304196, 'Std. Error': 1.1266207023561838, 'z-Statistic': 0.01765873430045886, 'p-Value': 0.9859111007678302}]\n"
     ]
    }
   ],
   "execution_count": 39
  },
  {
   "metadata": {
    "ExecuteTime": {
     "end_time": "2025-04-15T01:10:34.482909Z",
     "start_time": "2025-04-15T01:10:34.481294Z"
    }
   },
   "cell_type": "code",
   "source": "",
   "id": "4b05e786a2ef63ef",
   "outputs": [],
   "execution_count": null
  },
  {
   "metadata": {},
   "cell_type": "code",
   "outputs": [],
   "execution_count": null,
   "source": "",
   "id": "6d323d0d67daa327"
  }
 ],
 "metadata": {
  "kernelspec": {
   "display_name": "Python 3 (ipykernel)",
   "language": "python",
   "name": "python3"
  },
  "language_info": {
   "codemirror_mode": {
    "name": "ipython",
    "version": 3
   },
   "file_extension": ".py",
   "mimetype": "text/x-python",
   "name": "python",
   "nbconvert_exporter": "python",
   "pygments_lexer": "ipython3",
   "version": "3.9.13"
  }
 },
 "nbformat": 4,
 "nbformat_minor": 5
}
